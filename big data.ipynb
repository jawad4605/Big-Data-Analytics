{
 "cells": [
  {
   "cell_type": "code",
   "execution_count": 1,
   "id": "d5f7a663-49ac-40e3-89a7-4ada840e37ba",
   "metadata": {},
   "outputs": [
    {
     "name": "stdout",
     "output_type": "stream",
     "text": [
      "+----------+-----+-----+-----+-----+-------+--------+----------------+----+--------------------+-------------------+------------+-----+\n",
      "|      Date|Price| Open| High|  Low|   Vol.|Change %| Statistic Label|Year|  Sector of Activity| Size of Enterprise|        UNIT|VALUE|\n",
      "+----------+-----+-----+-----+-----+-------+--------+----------------+----+--------------------+-------------------+------------+-----+\n",
      "|04/01/2024|31.88|44.32|45.40|30.65| 37.25M| -27.82%|Value of Exports|2017|Agriculture and F...|     Micro (0 to 9)|Euro Million|  615|\n",
      "|03/01/2024|44.17|43.41|46.63|40.57|949.24M|   2.60%|Value of Exports|2017|Agriculture and F...|   Small (10 to 49)|Euro Million|  545|\n",
      "|02/01/2024|43.05|43.15|45.27|41.60|815.50M|  -0.07%|Value of Exports|2017|Agriculture and F...| Medium (50 to 249)|Euro Million| 1985|\n",
      "|01/01/2024|43.08|49.20|50.30|42.36|  1.00B| -14.27%|Value of Exports|2017|Agriculture and F...|Large (250 or more)|Euro Million|14778|\n",
      "|12/01/2023|50.25|44.36|51.28|41.17|829.55M|  12.42%|Value of Exports|2017|Agriculture and F...|            Unknown|Euro Million| NULL|\n",
      "|11/01/2023|44.70|36.50|45.34|36.28|806.64M|  22.47%|Value of Exports|2017|Agriculture and F...|    All Enterprises|Euro Million|17923|\n",
      "|10/01/2023|36.50|35.61|37.22|32.15|795.49M|   2.67%|Value of Exports|2018|Agriculture and F...|     Micro (0 to 9)|Euro Million|  399|\n",
      "|09/01/2023|35.55|35.79|40.07|33.64|841.42M|   1.17%|Value of Exports|2018|Agriculture and F...|   Small (10 to 49)|Euro Million|  562|\n",
      "|08/01/2023|35.14|35.82|36.02|32.02|716.17M|  -1.76%|Value of Exports|2018|Agriculture and F...| Medium (50 to 249)|Euro Million| 1906|\n",
      "|07/01/2023|35.77|33.54|37.19|31.38|791.86M|   6.97%|Value of Exports|2018|Agriculture and F...|Large (250 or more)|Euro Million|14887|\n",
      "|06/01/2023|33.44|31.80|37.11|29.69|  1.07B|   6.36%|Value of Exports|2018|Agriculture and F...|            Unknown|Euro Million| NULL|\n",
      "|05/01/2023|31.44|31.11|32.29|26.85|968.07M|   1.22%|Value of Exports|2018|Agriculture and F...|    All Enterprises|Euro Million|17754|\n",
      "|04/01/2023|31.06|32.94|33.84|28.51|728.91M|  -4.93%|Value of Exports|2019|Agriculture and F...|     Micro (0 to 9)|Euro Million|  563|\n",
      "|03/01/2023|32.67|25.03|32.90|24.97|  1.19B|  31.05%|Value of Exports|2019|Agriculture and F...|   Small (10 to 49)|Euro Million|  548|\n",
      "|02/01/2023|24.93|27.89|31.17|24.73|880.35M| -11.78%|Value of Exports|2019|Agriculture and F...| Medium (50 to 249)|Euro Million| 1973|\n",
      "|01/01/2023|28.26|27.05|30.49|26.37|840.84M|   6.92%|Value of Exports|2019|Agriculture and F...|Large (250 or more)|Euro Million|15016|\n",
      "|12/01/2022|26.43|30.24|30.48|25.35|758.55M| -12.11%|Value of Exports|2019|Agriculture and F...|            Unknown|Euro Million| NULL|\n",
      "|11/01/2022|30.07|28.80|31.33|27.17|788.94M|   5.77%|Value of Exports|2019|Agriculture and F...|    All Enterprises|Euro Million|18100|\n",
      "|10/01/2022|28.43|26.33|29.22|24.59|981.09M|  10.32%|Value of Exports|2020|Agriculture and F...|     Micro (0 to 9)|Euro Million|  942|\n",
      "|09/01/2022|25.77|31.57|32.38|25.74|889.09M| -19.27%|Value of Exports|2020|Agriculture and F...|   Small (10 to 49)|Euro Million|  481|\n",
      "+----------+-----+-----+-----+-----+-------+--------+----------------+----+--------------------+-------------------+------------+-----+\n",
      "only showing top 20 rows\n",
      "\n"
     ]
    }
   ],
   "source": [
    "from pyspark.sql import SparkSession\n",
    "\n",
    "# Create a SparkSession\n",
    "spark = SparkSession.builder \\\n",
    "    .appName(\"ZipExample\") \\\n",
    "    .getOrCreate()\n",
    "\n",
    "# Load the datasets into DataFrames\n",
    "df1 = spark.read.option(\"header\", \"true\").csv(\"intel.csv\")\n",
    "df2 = spark.read.option(\"header\", \"true\").csv(\"import_export.csv\")\n",
    "\n",
    "# Add a row index to each DataFrame\n",
    "from pyspark.sql.functions import monotonically_increasing_id\n",
    "df1 = df1.withColumn(\"row_index\", monotonically_increasing_id())\n",
    "df2 = df2.withColumn(\"row_index\", monotonically_increasing_id())\n",
    "\n",
    "# Zip the two DataFrames together\n",
    "zipped_df = df1.join(df2, \"row_index\").drop(\"row_index\")\n",
    "\n",
    "# Show the zipped DataFrame\n",
    "zipped_df.show()\n",
    "\n",
    "# Stop SparkSession\n",
    "spark.stop()\n"
   ]
  },
  {
   "cell_type": "code",
   "execution_count": null,
   "id": "a4f71ae0-61f8-46de-ac39-94ba8b303cf8",
   "metadata": {},
   "outputs": [],
   "source": []
  }
 ],
 "metadata": {
  "kernelspec": {
   "display_name": "Python 3 (ipykernel)",
   "language": "python",
   "name": "python3"
  },
  "language_info": {
   "codemirror_mode": {
    "name": "ipython",
    "version": 3
   },
   "file_extension": ".py",
   "mimetype": "text/x-python",
   "name": "python",
   "nbconvert_exporter": "python",
   "pygments_lexer": "ipython3",
   "version": "3.11.7"
  }
 },
 "nbformat": 4,
 "nbformat_minor": 5
}
